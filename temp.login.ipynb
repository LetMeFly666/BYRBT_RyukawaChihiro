{
    "cells": [
     {
      "cell_type": "code",
      "execution_count": 1,
      "metadata": {},
      "outputs": [],
      "source": [
       "import requests\n",
       "from config import secret"
      ]
     },
     {
      "cell_type": "code",
      "execution_count": 12,
      "metadata": {},
      "outputs": [],
      "source": [
       "response = requests.post('https://byr.pt/takelogin.php', data={'logintype': 'username', 'userinput': secret.BYRBT_username, 'password': secret.BYRBT_password, 'autologin': 'yes'}, allow_redirects=False)"
      ]
     },
     {
      "cell_type": "code",
      "execution_count": 16,
      "metadata": {},
      "outputs": [
       {
        "name": "stdout",
        "output_type": "stream",
        "text": [
         "<Response [302]>\n",
         "{'auth_token': 'YGI8yzPptledp3PXccUMuVpFMAUhknSiTfn3.qZImd3OkmeTBpQyXCCyoUKV6ktK2CWKsTdYtgoyEYXfgBSf2tiXRUZZ4zlaKPaP2eSf1PeD7RwYnWVKZYhv9yPekvrYrKH27wKN7ZCVXCAYYuOm5mJTgYIscojs9giE1oSy1sQbNidgwws1.SdbCxtjTsVfhKThN0rBO4892QLcxafns5kzDH9TwiWn_yvXSX8AK6wQII3FZ4uBM3y512fKBVxu9eeoPx_I21k'}\n",
         "YGI8yzPptledp3PXccUMuVpFMAUhknSiTfn3.qZImd3OkmeTBpQyXCCyoUKV6ktK2CWKsTdYtgoyEYXfgBSf2tiXRUZZ4zlaKPaP2eSf1PeD7RwYnWVKZYhv9yPekvrYrKH27wKN7ZCVXCAYYuOm5mJTgYIscojs9giE1oSy1sQbNidgwws1.SdbCxtjTsVfhKThN0rBO4892QLcxafns5kzDH9TwiWn_yvXSX8AK6wQII3FZ4uBM3y512fKBVxu9eeoPx_I21k\n",
         "{'Server': 'none', 'Date': 'Sun, 01 Sep 2024 03:55:25 GMT', 'Content-Type': 'text/html; charset=utf-8', 'Transfer-Encoding': 'chunked', 'Connection': 'keep-alive', 'X-Powered-By': 'PHP/8.2.8', 'Set-Cookie': 'auth_token=YGI8yzPptledp3PXccUMuVpFMAUhknSiTfn3.qZImd3OkmeTBpQyXCCyoUKV6ktK2CWKsTdYtgoyEYXfgBSf2tiXRUZZ4zlaKPaP2eSf1PeD7RwYnWVKZYhv9yPekvrYrKH27wKN7ZCVXCAYYuOm5mJTgYIscojs9giE1oSy1sQbNidgwws1.SdbCxtjTsVfhKThN0rBO4892QLcxafns5kzDH9TwiWn_yvXSX8AK6wQII3FZ4uBM3y512fKBVxu9eeoPx_I21k; expires=Fri, 28 Feb 2025 03:55:25 GMT; Max-Age=15552000; path=/; domain=.byr.pt; secure; HttpOnly', 'Location': 'https://byr.pt/index.php', 'Strict-Transport-Security': 'max-age=15768000'}\n",
         "auth_token=YGI8yzPptledp3PXccUMuVpFMAUhknSiTfn3.qZImd3OkmeTBpQyXCCyoUKV6ktK2CWKsTdYtgoyEYXfgBSf2tiXRUZZ4zlaKPaP2eSf1PeD7RwYnWVKZYhv9yPekvrYrKH27wKN7ZCVXCAYYuOm5mJTgYIscojs9giE1oSy1sQbNidgwws1.SdbCxtjTsVfhKThN0rBO4892QLcxafns5kzDH9TwiWn_yvXSX8AK6wQII3FZ4uBM3y512fKBVxu9eeoPx_I21k; expires=Fri, 28 Feb 2025 03:55:25 GMT; Max-Age=15552000; path=/; domain=.byr.pt; secure; HttpOnly\n"
        ]
       }
      ],
      "source": [
       "print(response)\n",
       "print(response.cookies.get_dict())\n",
       "print(response.cookies.get_dict().get('auth_token'))\n",
       "print(response.headers)\n",
       "print(response.headers.get('Set-Cookie'))\n",
       "# print(response.text)"
      ]
     }
    ],
    "metadata": {
     "language_info": {
      "name": "python"
     }
    },
    "nbformat": 4,
    "nbformat_minor": 2
   }
   